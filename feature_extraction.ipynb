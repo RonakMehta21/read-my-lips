{
 "cells": [
  {
   "cell_type": "code",
   "execution_count": null,
   "metadata": {
    "collapsed": false
   },
   "outputs": [],
   "source": [
    "from __future__ import print_function\n",
    "\n",
    "from keras.engine import Model\n",
    "from keras_vggface.vggface import VGGFace\n",
    "from keras.preprocessing import image\n",
    "from keras.models import Sequential\n",
    "from keras.layers.recurrent import LSTM\n",
    "from keras.layers.core import Dense\n",
    "\n",
    "import numpy as np\n",
    "\n",
    "from pre_processing import load_data"
   ]
  },
  {
   "cell_type": "code",
   "execution_count": null,
   "metadata": {
    "collapsed": false
   },
   "outputs": [],
   "source": [
    "# Load the data.\n",
    "data, vocab = load_data(k=4, speakers=['s1'])"
   ]
  },
  {
   "cell_type": "code",
   "execution_count": null,
   "metadata": {
    "collapsed": false
   },
   "outputs": [],
   "source": [
    "# Select which fold of the k-folds to use.\n",
    "FOLD = 0\n",
    "\n",
    "train, test = data[FOLD]\n",
    "x_train, y_train = train\n",
    "x_test, y_test = test\n",
    "\n",
    "print('Number of words for training: ', x_train.shape[0])\n",
    "print('Number of words for testing: ', x_test.shape[0])\n",
    "print('Frames per word: ', x_train.shape[1])\n",
    "print('Features per frame: ', x_train.shape[2])"
   ]
  },
  {
   "cell_type": "code",
   "execution_count": null,
   "metadata": {
    "collapsed": false
   },
   "outputs": [],
   "source": [
    "# Build the LSTM model.\n",
    "model = Sequential()\n",
    "model.add(LSTM(128, input_shape=x_train[0].shape, return_sequences=True))\n",
    "model.add(LSTM(128))\n",
    "model.add(Dense(len(vocab), activation='tanh'))\n",
    "model.compile(loss='mean_squared_error', optimizer='adam', metrics=['accuracy'])"
   ]
  },
  {
   "cell_type": "code",
   "execution_count": null,
   "metadata": {
    "collapsed": false
   },
   "outputs": [],
   "source": [
    "# Train the model.\n",
    "model.fit(x_train, y_train, batch_size=32, epochs=30, verbose=1)"
   ]
  },
  {
   "cell_type": "code",
   "execution_count": null,
   "metadata": {
    "collapsed": false,
    "scrolled": true
   },
   "outputs": [],
   "source": [
    "# Test the model.\n",
    "score, acc = model.evaluate(x_test, y_test, batch_size=32)\n",
    "print('Test score: ', score)\n",
    "print('Test accuracy: ', acc)"
   ]
  },
  {
   "cell_type": "code",
   "execution_count": null,
   "metadata": {
    "collapsed": false
   },
   "outputs": [],
   "source": [
    "# Try matching some results.\n",
    "frames_per_word = x_test.shape[1]\n",
    "features_per_frame = x_test.shape[2]\n",
    "\n",
    "RESULTS_TO_CHECK = 50\n",
    "MATCHES_PER_WORD = 4\n",
    "\n",
    "for i in xrange(RESULTS_TO_CHECK):\n",
    "    pred = model.predict(x_test[i].reshape(1, frames_per_word, features_per_frame))\n",
    "    predicted_indexes = np.argsort(pred.reshape(len(vocab)))[::-1][:MATCHES_PER_WORD]\n",
    "    correct_index = np.argsort(y_test[i])[::-1][0]\n",
    "\n",
    "    correct_word = vocab[correct_index]\n",
    "    predicted_words = [vocab[i] for i in predicted_indexes]\n",
    "\n",
    "    print('{} : {}'.format(correct_word, predicted_words))"
   ]
  },
  {
   "cell_type": "code",
   "execution_count": null,
   "metadata": {
    "collapsed": true
   },
   "outputs": [],
   "source": []
  }
 ],
 "metadata": {
  "kernelspec": {
   "display_name": "Python 2",
   "language": "python",
   "name": "python2"
  },
  "language_info": {
   "codemirror_mode": {
    "name": "ipython",
    "version": 2
   },
   "file_extension": ".py",
   "mimetype": "text/x-python",
   "name": "python",
   "nbconvert_exporter": "python",
   "pygments_lexer": "ipython2",
   "version": "2.7.12"
  }
 },
 "nbformat": 4,
 "nbformat_minor": 2
}
