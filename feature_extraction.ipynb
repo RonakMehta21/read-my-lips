{
 "cells": [
  {
   "cell_type": "code",
   "execution_count": null,
   "metadata": {
    "collapsed": false
   },
   "outputs": [],
   "source": [
    "from __future__ import print_function\n",
    "\n",
    "from keras.engine import Model\n",
    "from keras_vggface.vggface import VGGFace\n",
    "from keras.preprocessing import image\n",
    "from keras.models import Sequential\n",
    "from keras.layers.recurrent import LSTM\n",
    "from keras.layers.core import Dense\n",
    "\n",
    "import numpy as np\n",
    "\n",
    "from pre_processing import load_data"
   ]
  },
  {
   "cell_type": "code",
   "execution_count": null,
   "metadata": {
    "collapsed": false
   },
   "outputs": [],
   "source": [
    "# Load the data.\n",
    "(x_train, y_train), (x_test, y_test), vocab = load_data(num_words=0, train_fraction=0.7, speaker='s1')\n",
    "print('Number of words for training: ', x_train.shape[0])\n",
    "print('Number of words for testing: ', x_test.shape[0])"
   ]
  },
  {
   "cell_type": "code",
   "execution_count": null,
   "metadata": {
    "collapsed": false
   },
   "outputs": [],
   "source": [
    "# Build the LSTM model.\n",
    "model = Sequential()\n",
    "model.add(LSTM(128, input_shape=x_train[0].shape, return_sequences=True))\n",
    "model.add(LSTM(128))\n",
    "model.add(Dense(len(vocab), activation='tanh'))\n",
    "model.compile(loss='mean_squared_error', optimizer='adam', metrics=['accuracy'])"
   ]
  },
  {
   "cell_type": "code",
   "execution_count": null,
   "metadata": {
    "collapsed": false
   },
   "outputs": [],
   "source": [
    "# Train the model.\n",
    "model.fit(x_train, y_train, batch_size=32, epochs=20, verbose=1)"
   ]
  },
  {
   "cell_type": "code",
   "execution_count": null,
   "metadata": {
    "collapsed": false,
    "scrolled": true
   },
   "outputs": [],
   "source": [
    "# Test the model.\n",
    "score, acc = model.evaluate(x_test, y_test, batch_size=32)\n",
    "print('Test score: ', score)\n",
    "print('Test accuracy: ', acc)"
   ]
  },
  {
   "cell_type": "code",
   "execution_count": null,
   "metadata": {
    "collapsed": false
   },
   "outputs": [],
   "source": [
    "# Try matching some results.\n",
    "i = 4\n",
    "a = model.predict(x_test[i].reshape(1, 6, 50))\n",
    "best = np.argsort(a.reshape(len(vocab)))[::-1][0]\n",
    "\n",
    "des_index = np.argsort(y_test[i])[::-1][0]\n",
    "act_index = best\n",
    "\n",
    "for key, val in vocab.iteritems():\n",
    "    if val == des_index:\n",
    "        des_word = key\n",
    "    if val == act_index:\n",
    "        act_word = key\n",
    "\n",
    "print(des_word)\n",
    "print(act_word)"
   ]
  }
 ],
 "metadata": {
  "kernelspec": {
   "display_name": "Python 2",
   "language": "python",
   "name": "python2"
  },
  "language_info": {
   "codemirror_mode": {
    "name": "ipython",
    "version": 2
   },
   "file_extension": ".py",
   "mimetype": "text/x-python",
   "name": "python",
   "nbconvert_exporter": "python",
   "pygments_lexer": "ipython2",
   "version": "2.7.12"
  }
 },
 "nbformat": 4,
 "nbformat_minor": 2
}
